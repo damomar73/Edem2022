{
  "cells": [
    {
      "cell_type": "code",
      "execution_count": null,
      "metadata": {
        "id": "urLvUSJOgsfV"
      },
      "outputs": [
        {
          "ename": "",
          "evalue": "",
          "output_type": "error",
          "traceback": [
            "\u001b[1;31mNo se pudo iniciar el Kernel. \n",
            "\u001b[1;31mNo se pudo iniciar el Kernel 'Python 3.10.7 64-bit'. \n",
            "\u001b[1;31mConsulte el [registro] de Jupyter (command:jupyter.viewOutput) para obtener más detalles. Cannot read properties of undefined (reading 'makeSettings')"
          ]
        }
      ],
      "source": [
        "def suma(a:int,b:int):\n",
        "  return a + b"
      ]
    },
    {
      "cell_type": "code",
      "execution_count": null,
      "metadata": {
        "colab": {
          "base_uri": "https://localhost:8080/"
        },
        "id": "k5i4-LujhQo3",
        "outputId": "a6dde7e9-3af5-4d35-f353-b66d2f74453b"
      },
      "outputs": [
        {
          "ename": "",
          "evalue": "",
          "output_type": "error",
          "traceback": [
            "\u001b[1;31mNo se pudo iniciar el Kernel. \n",
            "\u001b[1;31mNo se pudo iniciar el Kernel 'Python 3.10.7 64-bit'. \n",
            "\u001b[1;31mConsulte el [registro] de Jupyter (command:jupyter.viewOutput) para obtener más detalles. Cannot read properties of undefined (reading 'makeSettings')"
          ]
        }
      ],
      "source": [
        "print(suma (3,5))"
      ]
    },
    {
      "cell_type": "code",
      "execution_count": null,
      "metadata": {
        "id": "AaW6_7W-isFI"
      },
      "outputs": [
        {
          "ename": "",
          "evalue": "",
          "output_type": "error",
          "traceback": [
            "\u001b[1;31mNo se pudo iniciar el Kernel. \n",
            "\u001b[1;31mNo se pudo iniciar el Kernel 'Python 3.10.7 64-bit'. \n",
            "\u001b[1;31mConsulte el [registro] de Jupyter (command:jupyter.viewOutput) para obtener más detalles. Cannot read properties of undefined (reading 'makeSettings')"
          ]
        }
      ],
      "source": [
        "from IPython.display import display, Javascript\n",
        "from google.colab.output import eval_js\n",
        "from base64 import b64decode\n",
        "\n",
        "def take_photo(filename='photo.jpg', quality=0.8):\n",
        "  js = Javascript('''\n",
        "    async function takePhoto(quality) {\n",
        "      const div = document.createElement('div');\n",
        "      const capture = document.createElement('button');\n",
        "      capture.textContent = 'Capture';\n",
        "      div.appendChild(capture);\n",
        "\n",
        "      const video = document.createElement('video');\n",
        "      video.style.display = 'block';\n",
        "      const stream = await navigator.mediaDevices.getUserMedia({video: true});\n",
        "\n",
        "      document.body.appendChild(div);\n",
        "      div.appendChild(video);\n",
        "      video.srcObject = stream;\n",
        "      await video.play();\n",
        "\n",
        "      // Resize the output to fit the video element.\n",
        "      google.colab.output.setIframeHeight(document.documentElement.scrollHeight, true);\n",
        "\n",
        "      // Wait for Capture to be clicked.\n",
        "      await new Promise((resolve) => capture.onclick = resolve);\n",
        "\n",
        "      const canvas = document.createElement('canvas');\n",
        "      canvas.width = video.videoWidth;\n",
        "      canvas.height = video.videoHeight;\n",
        "      canvas.getContext('2d').drawImage(video, 0, 0);\n",
        "      stream.getVideoTracks()[0].stop();\n",
        "      div.remove();\n",
        "      return canvas.toDataURL('image/jpeg', quality);\n",
        "    }\n",
        "    ''')\n",
        "  display(js)\n",
        "  data = eval_js('takePhoto({})'.format(quality))\n",
        "  binary = b64decode(data.split(',')[1])\n",
        "  with open(filename, 'wb') as f:\n",
        "    f.write(binary)\n",
        "  return filename"
      ]
    },
    {
      "cell_type": "code",
      "execution_count": null,
      "metadata": {
        "colab": {
          "base_uri": "https://localhost:8080/",
          "height": 514
        },
        "id": "2stdmS5YisFK",
        "outputId": "07353b04-d976-4f63-d47c-43d27dc90f5b"
      },
      "outputs": [
        {
          "ename": "",
          "evalue": "",
          "output_type": "error",
          "traceback": [
            "\u001b[1;31mNo se pudo iniciar el Kernel. \n",
            "\u001b[1;31mNo se pudo iniciar el Kernel 'Python 3.10.7 64-bit'. \n",
            "\u001b[1;31mConsulte el [registro] de Jupyter (command:jupyter.viewOutput) para obtener más detalles. Cannot read properties of undefined (reading 'makeSettings')"
          ]
        }
      ],
      "source": [
        "from IPython.display import Image\n",
        "try:\n",
        "  filename = take_photo()\n",
        "  print('Saved to {}'.format(filename))\n",
        "  \n",
        "  # Show the image which was just taken.\n",
        "  display(Image(filename))\n",
        "except Exception as err:\n",
        "  # Errors will be thrown if the user does not have a webcam or if they do not\n",
        "  # grant the page permission to access it.\n",
        "  print(str(err))"
      ]
    },
    {
      "cell_type": "code",
      "execution_count": null,
      "metadata": {
        "colab": {
          "base_uri": "https://localhost:8080/",
          "height": 369
        },
        "id": "Y0nUhY0ci_D4",
        "outputId": "ecf9ac3b-a3da-462c-bf42-015a0ffc4968"
      },
      "outputs": [
        {
          "ename": "",
          "evalue": "",
          "output_type": "error",
          "traceback": [
            "\u001b[1;31mNo se pudo iniciar el Kernel. \n",
            "\u001b[1;31mNo se pudo iniciar el Kernel 'Python 3.10.7 64-bit'. \n",
            "\u001b[1;31mConsulte el [registro] de Jupyter (command:jupyter.viewOutput) para obtener más detalles. Cannot read properties of undefined (reading 'makeSettings')"
          ]
        }
      ],
      "source": [
        "# load an example dataset\n",
        "from vega_datasets import data\n",
        "cars = data.cars()\n",
        "\n",
        "# plot the dataset, referencing dataframe column names\n",
        "import altair as alt\n",
        "alt.Chart(cars).mark_bar().encode(\n",
        "  x=alt.X('Miles_per_Gallon', bin=True),\n",
        "  y='count()',\n",
        ")"
      ]
    },
    {
      "cell_type": "code",
      "execution_count": null,
      "metadata": {
        "colab": {
          "base_uri": "https://localhost:8080/",
          "height": 369
        },
        "id": "pjkNg0PdjGPk",
        "outputId": "a218af91-c724-46e0-e5af-345cf27048e2"
      },
      "outputs": [
        {
          "ename": "",
          "evalue": "",
          "output_type": "error",
          "traceback": [
            "\u001b[1;31mNo se pudo iniciar el Kernel. \n",
            "\u001b[1;31mNo se pudo iniciar el Kernel 'Python 3.10.7 64-bit'. \n",
            "\u001b[1;31mConsulte el [registro] de Jupyter (command:jupyter.viewOutput) para obtener más detalles. Cannot read properties of undefined (reading 'makeSettings')"
          ]
        }
      ],
      "source": [
        "# load an example dataset\n",
        "from vega_datasets import data\n",
        "cars = data.cars()\n",
        "\n",
        "# plot the dataset, referencing dataframe column names\n",
        "import altair as alt\n",
        "alt.Chart(cars).mark_bar().encode(\n",
        "  x=alt.X('Miles_per_Gallon', bin=True),\n",
        "  y='count()',\n",
        "  color='Origin'\n",
        ")"
      ]
    },
    {
      "cell_type": "code",
      "execution_count": null,
      "metadata": {
        "colab": {
          "base_uri": "https://localhost:8080/",
          "height": 369
        },
        "id": "hedhHXI_jKz1",
        "outputId": "6c4e1bc6-39a4-4b31-ad25-1d0d4f252d79"
      },
      "outputs": [
        {
          "ename": "",
          "evalue": "",
          "output_type": "error",
          "traceback": [
            "\u001b[1;31mNo se pudo iniciar el Kernel. \n",
            "\u001b[1;31mNo se pudo iniciar el Kernel 'Python 3.10.7 64-bit'. \n",
            "\u001b[1;31mConsulte el [registro] de Jupyter (command:jupyter.viewOutput) para obtener más detalles. Cannot read properties of undefined (reading 'makeSettings')"
          ]
        }
      ],
      "source": [
        "# load an example dataset\n",
        "from vega_datasets import data\n",
        "cars = data.cars()\n",
        "\n",
        "import altair as alt\n",
        "\n",
        "interval = alt.selection_interval()\n",
        "\n",
        "alt.Chart(cars).mark_point().encode(\n",
        "  x='Horsepower',\n",
        "  y='Miles_per_Gallon',\n",
        "  color=alt.condition(interval, 'Origin', alt.value('lightgray'))\n",
        ").properties(\n",
        "  selection=interval\n",
        ")"
      ]
    },
    {
      "cell_type": "markdown",
      "metadata": {
        "id": "xcBTGQQ2iMqI"
      },
      "source": [
        "# Section 1"
      ]
    },
    {
      "cell_type": "code",
      "execution_count": null,
      "metadata": {
        "id": "ssN9cRoSiZhu"
      },
      "outputs": [
        {
          "ename": "",
          "evalue": "",
          "output_type": "error",
          "traceback": [
            "\u001b[1;31mNo se pudo iniciar el Kernel. \n",
            "\u001b[1;31mNo se pudo iniciar el Kernel 'Python 3.10.7 64-bit'. \n",
            "\u001b[1;31mConsulte el [registro] de Jupyter (command:jupyter.viewOutput) para obtener más detalles. Cannot read properties of undefined (reading 'makeSettings')"
          ]
        }
      ],
      "source": [
        "a=1"
      ]
    },
    {
      "cell_type": "code",
      "execution_count": null,
      "metadata": {
        "colab": {
          "base_uri": "https://localhost:8080/",
          "height": 369
        },
        "id": "VVkruhskj5Y4",
        "outputId": "144498de-0872-46c8-e0b7-6c5ca9a2aa8d"
      },
      "outputs": [
        {
          "ename": "",
          "evalue": "",
          "output_type": "error",
          "traceback": [
            "\u001b[1;31mNo se pudo iniciar el Kernel. \n",
            "\u001b[1;31mNo se pudo iniciar el Kernel 'Python 3.10.7 64-bit'. \n",
            "\u001b[1;31mConsulte el [registro] de Jupyter (command:jupyter.viewOutput) para obtener más detalles. Cannot read properties of undefined (reading 'makeSettings')"
          ]
        }
      ],
      "source": [
        "from vega_datasets import data\n",
        "stocks = data.stocks()\n",
        "\n",
        "import altair as alt\n",
        "alt.Chart(stocks).mark_line().encode(\n",
        "  x='date:T',\n",
        "  y='price',\n",
        "  color='symbol'\n",
        ").interactive(bind_y=False)"
      ]
    }
  ],
  "metadata": {
    "colab": {
      "provenance": []
    },
    "kernelspec": {
      "display_name": "Python 3.10.7 64-bit",
      "language": "python",
      "name": "python3"
    },
    "language_info": {
      "name": "python",
      "version": "3.10.7"
    },
    "vscode": {
      "interpreter": {
        "hash": "470607cd7d99bc6e1e681189d76e91626bfd4acc82e230d29bdd3557ec22540e"
      }
    }
  },
  "nbformat": 4,
  "nbformat_minor": 0
}
